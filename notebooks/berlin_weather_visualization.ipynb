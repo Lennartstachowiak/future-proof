{
 "cells": [
  {
   "cell_type": "markdown",
   "metadata": {},
   "source": [
    "# Berlin Weather Data Visualization 2024\n",
    "\n",
    "This notebook visualizes Berlin weather data from 2024 and maps WMO weather codes to their descriptions."
   ]
  },
  {
   "cell_type": "code",
   "execution_count": 1,
   "metadata": {},
   "outputs": [
    {
     "ename": "ModuleNotFoundError",
     "evalue": "No module named 'pandas'",
     "output_type": "error",
     "traceback": [
      "\u001b[0;31m---------------------------------------------------------------------------\u001b[0m",
      "\u001b[0;31mModuleNotFoundError\u001b[0m                       Traceback (most recent call last)",
      "Cell \u001b[0;32mIn[1], line 2\u001b[0m\n\u001b[1;32m      1\u001b[0m \u001b[38;5;66;03m# Import necessary libraries\u001b[39;00m\n\u001b[0;32m----> 2\u001b[0m \u001b[38;5;28;01mimport\u001b[39;00m \u001b[38;5;21;01mpandas\u001b[39;00m \u001b[38;5;28;01mas\u001b[39;00m \u001b[38;5;21;01mpd\u001b[39;00m\n\u001b[1;32m      3\u001b[0m \u001b[38;5;28;01mimport\u001b[39;00m \u001b[38;5;21;01mnumpy\u001b[39;00m \u001b[38;5;28;01mas\u001b[39;00m \u001b[38;5;21;01mnp\u001b[39;00m\n\u001b[1;32m      4\u001b[0m \u001b[38;5;28;01mimport\u001b[39;00m \u001b[38;5;21;01mmatplotlib\u001b[39;00m\u001b[38;5;21;01m.\u001b[39;00m\u001b[38;5;21;01mpyplot\u001b[39;00m \u001b[38;5;28;01mas\u001b[39;00m \u001b[38;5;21;01mplt\u001b[39;00m\n",
      "\u001b[0;31mModuleNotFoundError\u001b[0m: No module named 'pandas'"
     ]
    }
   ],
   "source": [
    "# Import necessary libraries\n",
    "import pandas as pd\n",
    "import numpy as np\n",
    "import matplotlib.pyplot as plt\n",
    "import seaborn as sns\n",
    "import json\n",
    "from datetime import datetime\n",
    "import calendar\n",
    "\n",
    "# Set visualization style\n",
    "sns.set(style='whitegrid')\n",
    "plt.rcParams['figure.figsize'] = (14, 8)\n",
    "plt.rcParams['font.size'] = 12"
   ]
  },
  {
   "cell_type": "markdown",
   "metadata": {},
   "source": [
    "## Load and Prepare Data"
   ]
  },
  {
   "cell_type": "code",
   "execution_count": null,
   "metadata": {},
   "outputs": [],
   "source": [
    "# Load the Berlin weather data\n",
    "weather_data_path = 'datasets/berlin_weather_2024.csv'\n",
    "df = pd.read_csv(weather_data_path, sep=';')\n",
    "\n",
    "# Convert date to datetime\n",
    "df['Date'] = pd.to_datetime(df['Date'])\n",
    "\n",
    "# Display basic information about the dataset\n",
    "print('Dataset shape:', df.shape)\n",
    "print('\n",
    "First few rows:')\n",
    "display(df.head())\n",
    "\n",
    "print('\n",
    "Data types:')\n",
    "display(df.dtypes)\n",
    "\n",
    "print('\n",
    "Summary statistics:')\n",
    "display(df.describe())"
   ]
  },
  {
   "cell_type": "markdown",
   "metadata": {},
   "source": [
    "## Load WMO Weather Codes"
   ]
  },
  {
   "cell_type": "code",
   "execution_count": null,
   "metadata": {},
   "outputs": [],
   "source": [
    "# Load the WMO weather codes\n",
    "wmo_codes_path = 'datasets/wmo_weather_code.json'\n",
    "\n",
    "with open(wmo_codes_path, 'r') as f:\n",
    "    wmo_codes = json.load(f)\n",
    "\n",
    "# Create a mapping dictionary for day descriptions\n",
    "wmo_descriptions = {int(code): data['day']['description'] for code, data in wmo_codes.items()}\n",
    "\n",
    "# Display a few examples of the mapping\n",
    "print('Example WMO code mappings:')\n",
    "for code in sorted(list(wmo_descriptions.keys())[:10]):\n",
    "    print(f'Code {code}: {wmo_descriptions[code]}')"
   ]
  },
  {
   "cell_type": "markdown",
   "metadata": {},
   "source": [
    "## Map WMO Codes to Descriptions"
   ]
  },
  {
   "cell_type": "code",
   "execution_count": null,
   "metadata": {},
   "outputs": [],
   "source": [
    "# Map the weather codes to descriptions\n",
    "df['weather_code'] = df['weather_code (wmo code)'].astype(int)\n",
    "df['weather_description'] = df['weather_code'].map(wmo_descriptions)\n",
    "\n",
    "# Extract month and season for later analysis\n",
    "df['month'] = df['Date'].dt.month\n",
    "df['month_name'] = df['Date'].dt.month_name()\n",
    "\n",
    "def get_season(month):\n",
    "    if month in [12, 1, 2]:\n",
    "        return 'Winter'\n",
    "    elif month in [3, 4, 5]:\n",
    "        return 'Spring'\n",
    "    elif month in [6, 7, 8]:\n",
    "        return 'Summer'\n",
    "    else:\n",
    "        return 'Fall'\n",
    "\n",
    "df['season'] = df['month'].apply(get_season)\n",
    "\n",
    "# Display the updated dataframe\n",
    "display(df[['Date', 'weather_code', 'weather_description', 'temperature_2m_mean (°C)', 'month_name', 'season']].head(10))"
   ]
  }
 ],
 "metadata": {
  "kernelspec": {
   "display_name": "Python 3",
   "language": "python",
   "name": "python3"
  },
  "language_info": {
   "codemirror_mode": {
    "name": "ipython",
    "version": 3
   },
   "file_extension": ".py",
   "mimetype": "text/x-python",
   "name": "python",
   "nbconvert_exporter": "python",
   "pygments_lexer": "ipython3",
   "version": "3.11.6"
  }
 },
 "nbformat": 4,
 "nbformat_minor": 5
}
