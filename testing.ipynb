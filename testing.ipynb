{
 "cells": [
  {
   "cell_type": "code",
   "execution_count": null,
   "id": "94d25137",
   "metadata": {},
   "outputs": [
    {
     "name": "stdout",
     "output_type": "stream",
     "text": [
      "Status Code: 200\n",
      "Response: [{\"output\":\"Hey Lennart,\\n\\nHope this email finds you well! We noticed it's been a while since your last visit to our restaurant, and we miss seeing you around.\\n\\nNext week, we'd love to have you back! As a small token of our appreciation, enjoy a special 20% discount on your meal. Plus, we've got a surplus of fresh ingredients that we'd hate to see go to waste – so it's a win-win!\\n\\nLooking forward to serving you again soon.\\n\\nWarm regards,\\n[Your Restaurant Name]\"}]\n"
     ]
    }
   ],
   "source": [
    "# make a webhook call with an empty body:\n",
    "\n",
    "import requests\n",
    "import json\n",
    "\n",
    "# Replace with your actual webhook URL\n",
    "webhook_url = 'https://noam.app.n8n.cloud/webhook/6ac2c534-dfb0-4b96-9d75-2b9ba36fdbe8'\n",
    "\n",
    "# Define the headers\n",
    "headers = {'Content-Type': 'application/json'}\n",
    "\n",
    "# Define the empty payload\n",
    "payload = {\n",
    "    \"Customer_name\": \"Lennart\",\n",
    "    \"past_conversation\": \"\"\"Hey Lennart,\\n\\nHope this email finds you well! We noticed it's been a while since your last visit to our restaurant, and we miss seeing you around.\\n\\nNext week, we'd love to have you back! As a small token of our appreciation, enjoy a special 20% discount on your meal. Plus, we've got a surplus of fresh ingredients that we'd hate to see go to waste – so it's a win-win!\\n\\nLooking forward to serving you again soon.\\n\\nWarm regards!\"\"\"\n",
    "}\n",
    "\n",
    "# Make a POST request with the empty JSON payload\n",
    "response = requests.get(webhook_url, headers=headers, data=json.dumps(payload))\n",
    "\n",
    "# Print the status code and response (for debugging)\n",
    "print(f'Status Code: {response.status_code}')\n",
    "print(f'Response: {response.text}')\n"
   ]
  }
 ],
 "metadata": {
  "kernelspec": {
   "display_name": ".venv",
   "language": "python",
   "name": "python3"
  },
  "language_info": {
   "codemirror_mode": {
    "name": "ipython",
    "version": 3
   },
   "file_extension": ".py",
   "mimetype": "text/x-python",
   "name": "python",
   "nbconvert_exporter": "python",
   "pygments_lexer": "ipython3",
   "version": "3.13.2"
  }
 },
 "nbformat": 4,
 "nbformat_minor": 5
}
